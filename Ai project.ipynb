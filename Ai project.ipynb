{
 "cells": [
  {
   "cell_type": "code",
   "execution_count": 11,
   "id": "2a2824cb-19b1-4506-9182-4509bf85d6d8",
   "metadata": {},
   "outputs": [],
   "source": [
    "def loneliness():\n",
    "    return [\n",
    "        \"desolation\", \"detached\", \"deserted\", \"lonesomeness\", \"empty\", \"unaccompanied\", \"uninhabited\", \"abandoned\", \"forsakenness\", \"alienation\", \"seclusion\",\n",
    "        \"solitude\", \"aloneness\", \"isolation\", \"estrangement\", \"lonely\" , \"alone\"\n",
    "    ]\n",
    "def disappointment():\n",
    "    return [\n",
    "        \"disillusionment\", \"letdown\", \"regret\", \"displeasure\", \"despondency\", \"resentment\", \"betrayal\", \"despondency\", \"misrey\", \"disappointing\", \"disappointed\",\"disappointment\"\n",
    "    ]\n",
    "def fear():\n",
    "    return [\n",
    "        \"anxiety\", \"terror\", \"horror\", \"fright\", \"worry\", \"panic\", \"horrified\", \"dread\", \"apprehension\", \"phobia\", \"trepidation\",\n",
    "        \"distress\", \"fearness\", \"fearful\", \"feared\",\"fear\"\n",
    "    ]\n",
    "def anger():\n",
    "    return [\n",
    "        \"temper\", \"agitation\", \"irritation\", \"seething\", \"grudge\", \"resentment\", \"wrath\", \"rage\", \"fury\", \"indignation\", \"exasperation\",\n",
    "        \"outrage\",\"angry\",\"anger\" , \"discontented\"\n",
    "    ]\n",
    "def disgust():\n",
    "    return [\n",
    "        \"repulsion\", \"contempt\", \"disdain\", \"nausea\", \"aversion\", \"repugnance\", \"revulsion\", \"sickening\", \"foulness\", \"disgusting\", \"disgusted\",\n",
    "        \"vomit\" , \"cringe\"\n",
    "    ]\n",
    "def apathy():\n",
    "    return [\n",
    "        \"boredom\", \"passivity\", \"emotionless\", \"disinterest\", \"unresponsiveness\", \"lack of interest\" , \"lethargy\"\n",
    "    ]\n",
    "def sadness():\n",
    "    return [\n",
    "        \"sorrow\", \"sad\", \"grief\", \"melancholy\", \"depression\", \"mournfulness\", \"gloom\", \"heartache\", \"despair\", \"tearfulness\", \"tears\",\n",
    "        \"cry\", \"crying\", \"cried\", \"depressing\" , \"depressed\" , \"forlornness\" , \"misery\", \"regret\" , \"lonely\", \"wretched\" ,\"dejected\",\"heartbroken\"\n",
    "        ,\"woeful\"    ]\n",
    "def frustration():\n",
    "    return [\n",
    "        \"defeat\", \"defeated\", \"disappointment\", \"disappointed\", \"discouragement\", \"discouraged\", \"helplessness\", \"hopeless\"\n",
    "    ]\n",
    "def miserable():\n",
    "    return [\n",
    "        \"bad\", \"sad\", \"terrible\", \"awful\", \"unhappy\", \"wretched\", \"horrible\", \"forlorn\", \"worst\", \"disgusting\",\n",
    "        \"ugly\", \"dreadful\", \"miserable\"\n",
    "    ]\n",
    "def troubled():\n",
    "    return [\n",
    "        \"distressed\", \"anxious\", \"terrible\", \"agitated\", \"unsettled\", \"bothered\", \"vexed\", \"trouble\", \"problem\" ,\"uncomfortable\"\n",
    "    ]\n",
    "def heartbroken():\n",
    "    return [\n",
    "        \"crushed\", \"sad\", \"sorrowful\", \"wretched\", \"brokenhearted\", \"tearful\", \"tears\", \"tearfulness\", \"inconsolable\" ,\"woeful\" ,\"heartbroken\"\n",
    "    ]\n",
    "    "
   ]
  },
  {
   "cell_type": "code",
   "execution_count": null,
   "id": "097d8431-6cab-4797-b230-c1b58a79202b",
   "metadata": {},
   "outputs": [],
   "source": []
  }
 ],
 "metadata": {
  "kernelspec": {
   "display_name": "Python 3 (ipykernel)",
   "language": "python",
   "name": "python3"
  },
  "language_info": {
   "codemirror_mode": {
    "name": "ipython",
    "version": 3
   },
   "file_extension": ".py",
   "mimetype": "text/x-python",
   "name": "python",
   "nbconvert_exporter": "python",
   "pygments_lexer": "ipython3",
   "version": "3.12.4"
  }
 },
 "nbformat": 4,
 "nbformat_minor": 5
}
